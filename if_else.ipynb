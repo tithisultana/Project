{
 "cells": [
  {
   "cell_type": "markdown",
   "id": "e512aac5-de7f-4376-bb15-d57986fd08b5",
   "metadata": {},
   "source": [
    "Task 1 "
   ]
  },
  {
   "cell_type": "code",
   "execution_count": 2,
   "id": "d0fc4c09-8fed-4474-bbda-a03affba83d9",
   "metadata": {},
   "outputs": [
    {
     "name": "stdin",
     "output_type": "stream",
     "text": [
      " 4\n"
     ]
    },
    {
     "name": "stdout",
     "output_type": "stream",
     "text": [
      "4 is Positive\n"
     ]
    }
   ],
   "source": [
    "num=int(input()) \n",
    "if num>0:\n",
    "    print(f\"{num} is Positive\") \n",
    "elif num<0:\n",
    "        print(f\"{num} is Negative\")\n",
    "else:\n",
    "    print(\"The number is zero\")\n",
    "\n",
    "   "
   ]
  },
  {
   "cell_type": "markdown",
   "id": "10f6c368-b3e7-4c73-b2b5-758a36f5bc78",
   "metadata": {},
   "source": [
    "Task 2\n"
   ]
  },
  {
   "cell_type": "code",
   "execution_count": 3,
   "id": "fd0c5e71-9c3d-4fc5-be59-4afce9363901",
   "metadata": {},
   "outputs": [
    {
     "name": "stdin",
     "output_type": "stream",
     "text": [
      " 5\n"
     ]
    },
    {
     "name": "stdout",
     "output_type": "stream",
     "text": [
      "5 is odd\n"
     ]
    }
   ],
   "source": [
    "n=int(input())\n",
    "if n%2==0:\n",
    "    print(f\"{n} is even\")\n",
    "else:\n",
    "    print(f\"{n} is odd\")\n",
    "    "
   ]
  },
  {
   "cell_type": "code",
   "execution_count": null,
   "id": "4782fdcf-f1aa-400f-85d1-246df703c63e",
   "metadata": {},
   "outputs": [],
   "source": [
    "\n"
   ]
  },
  {
   "cell_type": "markdown",
   "id": "88dba9b9-b041-49c7-87ca-910f4f31e867",
   "metadata": {},
   "source": [
    "Task 3"
   ]
  },
  {
   "cell_type": "code",
   "execution_count": null,
   "id": "02818cf2-f1c0-4af9-be5f-278922e53383",
   "metadata": {},
   "outputs": [],
   "source": [
    "score=int(input(\"Enter score : \"))\n",
    "if score<=100 and score>=90:\n",
    "    print(\"Grade: A\")\n",
    "elif score<=89 and score>=80:\n",
    "    print(\"Grade: B\") \n",
    "elif score>=70 and score<=79:\n",
    "    print(\"Grade: C\")\n",
    "elif score>=60 and score<=69:\n",
    "    print(\"Grade: D\")\n",
    "else:\n",
    "    print(\"Grade: F\")\n"
   ]
  },
  {
   "cell_type": "code",
   "execution_count": null,
   "id": "99feec31-6966-4fcb-8a0f-4ecc1fd9d41f",
   "metadata": {},
   "outputs": [],
   "source": []
  },
  {
   "cell_type": "code",
   "execution_count": null,
   "id": "07c3a89b-dfd6-497d-9306-f5f187c7ec14",
   "metadata": {},
   "outputs": [],
   "source": []
  }
 ],
 "metadata": {
  "kernelspec": {
   "display_name": "Python 3 (ipykernel)",
   "language": "python",
   "name": "python3"
  },
  "language_info": {
   "codemirror_mode": {
    "name": "ipython",
    "version": 3
   },
   "file_extension": ".py",
   "mimetype": "text/x-python",
   "name": "python",
   "nbconvert_exporter": "python",
   "pygments_lexer": "ipython3",
   "version": "3.11.7"
  }
 },
 "nbformat": 4,
 "nbformat_minor": 5
}
