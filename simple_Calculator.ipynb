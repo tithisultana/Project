{
 "cells": [
  {
   "cell_type": "code",
   "execution_count": 1,
   "id": "7498cdd1-6a7f-4f6a-8d7e-c92b5276e775",
   "metadata": {},
   "outputs": [
    {
     "name": "stdin",
     "output_type": "stream",
     "text": [
      "Enter 1st number:  4\n",
      "Enter 2nd number:  3\n",
      "Enter 3rd number:  4\n"
     ]
    },
    {
     "name": "stdout",
     "output_type": "stream",
     "text": [
      "Summation=11.0\n",
      "Subtraction=-3.0\n",
      "Multiplication=48.0\n",
      "Division=0.3333333333333333\n"
     ]
    }
   ],
   "source": [
    "a=float(input(\"Enter 1st number: \")) \n",
    "b=float(input(\"Enter 2nd number: \")) \n",
    "c=float(input(\"Enter 3rd number: \")) \n",
    "S=(a+b+c)\n",
    "print(f\"Summation={S}\")\n",
    "\n",
    "Sub=(a-(b+c))\n",
    "print(f\"Subtraction={Sub}\") \n",
    "\n",
    "M=(a*b*c) \n",
    "print(f\"Multiplication={M}\") \n",
    "\n",
    "D=((a/b)/c) \n",
    "print(f\"Division={D}\") "
   ]
  },
  {
   "cell_type": "code",
   "execution_count": 1,
   "id": "145ac6d4-7d49-43bb-bebf-0bef69f014f2",
   "metadata": {},
   "outputs": [
    {
     "name": "stdin",
     "output_type": "stream",
     "text": [
      "Enter 1st number:  4\n",
      "Enter 2nd number:  3\n",
      "Enter 3rd number:  4\n"
     ]
    },
    {
     "name": "stdout",
     "output_type": "stream",
     "text": [
      "Summation=11.0\n",
      "Subtraction=-3.0\n",
      "Multiplication=48.0\n",
      "Division=0.3333333333333333\n"
     ]
    }
   ],
   "source": [
    "a=float(input(\"Enter 1st number: \")) \n",
    "b=float(input(\"Enter 2nd number: \")) \n",
    "c=float(input(\"Enter 3rd number: \")) \n",
    "S=(a+b+c)\n",
    "print(f\"Summation={S}\")\n",
    "\n",
    "Sub=(a-(b+c))\n",
    "print(f\"Subtraction={Sub}\") \n",
    "\n",
    "M=(a*b*c) \n",
    "print(f\"Multiplication={M}\") \n",
    "\n",
    "D=((a/b)/c) \n",
    "print(f\"Division={D}\") "
   ]
  },
  {
   "cell_type": "code",
   "execution_count": null,
   "id": "37cbee76-2eec-4ca4-acc9-2223baf1e675",
   "metadata": {},
   "outputs": [],
   "source": []
  }
 ],
 "metadata": {
  "kernelspec": {
   "display_name": "Python 3 (ipykernel)",
   "language": "python",
   "name": "python3"
  },
  "language_info": {
   "codemirror_mode": {
    "name": "ipython",
    "version": 3
   },
   "file_extension": ".py",
   "mimetype": "text/x-python",
   "name": "python",
   "nbconvert_exporter": "python",
   "pygments_lexer": "ipython3",
   "version": "3.11.7"
  }
 },
 "nbformat": 4,
 "nbformat_minor": 5
}
